{
 "cells": [
  {
   "cell_type": "code",
   "execution_count": 12,
   "metadata": {},
   "outputs": [],
   "source": [
    "from tensorflow.keras.datasets import imdb\n",
    "\n",
    "import matplotlib.pyplot as plt\n",
    "\n",
    "from sklearn.model_selection import train_test_split\n",
    "from tensorflow.keras.preprocessing.sequence import pad_sequences\n",
    "\n",
    "from tensorflow import keras"
   ]
  },
  {
   "cell_type": "code",
   "execution_count": 2,
   "metadata": {},
   "outputs": [
    {
     "name": "stderr",
     "output_type": "stream",
     "text": [
      "<__array_function__ internals>:5: VisibleDeprecationWarning: Creating an ndarray from ragged nested sequences (which is a list-or-tuple of lists-or-tuples-or ndarrays with different lengths or shapes) is deprecated. If you meant to do this, you must specify 'dtype=object' when creating the ndarray\n",
      "C:\\Users\\user\\anaconda3\\lib\\site-packages\\tensorflow\\python\\keras\\datasets\\imdb.py:159: VisibleDeprecationWarning: Creating an ndarray from ragged nested sequences (which is a list-or-tuple of lists-or-tuples-or ndarrays with different lengths or shapes) is deprecated. If you meant to do this, you must specify 'dtype=object' when creating the ndarray\n",
      "  x_train, y_train = np.array(xs[:idx]), np.array(labels[:idx])\n",
      "C:\\Users\\user\\anaconda3\\lib\\site-packages\\tensorflow\\python\\keras\\datasets\\imdb.py:160: VisibleDeprecationWarning: Creating an ndarray from ragged nested sequences (which is a list-or-tuple of lists-or-tuples-or ndarrays with different lengths or shapes) is deprecated. If you meant to do this, you must specify 'dtype=object' when creating the ndarray\n",
      "  x_test, y_test = np.array(xs[idx:]), np.array(labels[idx:])\n"
     ]
    }
   ],
   "source": [
    "(train_input, train_target), (test_input, test_target) = imdb.load_data(num_words=500)\n",
    "\n",
    "train_input, val_input, train_target, val_target = train_test_split(train_input, train_target, test_size=0.2, random_state=42)"
   ]
  },
  {
   "cell_type": "code",
   "execution_count": 4,
   "metadata": {},
   "outputs": [],
   "source": [
    "train_seq = pad_sequences(train_input, maxlen=100)\n",
    "val_seq = pad_sequences(val_input, maxlen=100)"
   ]
  },
  {
   "cell_type": "code",
   "execution_count": 6,
   "metadata": {},
   "outputs": [
    {
     "data": {
      "text/plain": [
       "(20000, 100)"
      ]
     },
     "execution_count": 6,
     "metadata": {},
     "output_type": "execute_result"
    }
   ],
   "source": [
    "train_seq.shape"
   ]
  },
  {
   "cell_type": "code",
   "execution_count": 7,
   "metadata": {},
   "outputs": [
    {
     "data": {
      "text/plain": [
       "(5000, 100)"
      ]
     },
     "execution_count": 7,
     "metadata": {},
     "output_type": "execute_result"
    }
   ],
   "source": [
    "val_seq.shape"
   ]
  },
  {
   "cell_type": "code",
   "execution_count": 8,
   "metadata": {},
   "outputs": [],
   "source": [
    "model = keras.Sequential()\n",
    "model.add(keras.layers.Embedding(500, 16, input_length=100))\n",
    "model.add(keras.layers.LSTM(8))\n",
    "model.add(keras.layers.Dense(1, activation='sigmoid'))"
   ]
  },
  {
   "cell_type": "code",
   "execution_count": 9,
   "metadata": {},
   "outputs": [
    {
     "name": "stdout",
     "output_type": "stream",
     "text": [
      "Model: \"sequential\"\n",
      "_________________________________________________________________\n",
      "Layer (type)                 Output Shape              Param #   \n",
      "=================================================================\n",
      "embedding (Embedding)        (None, 100, 16)           8000      \n",
      "_________________________________________________________________\n",
      "lstm (LSTM)                  (None, 8)                 800       \n",
      "_________________________________________________________________\n",
      "dense (Dense)                (None, 1)                 9         \n",
      "=================================================================\n",
      "Total params: 8,809\n",
      "Trainable params: 8,809\n",
      "Non-trainable params: 0\n",
      "_________________________________________________________________\n"
     ]
    }
   ],
   "source": [
    "model.summary()"
   ]
  },
  {
   "cell_type": "code",
   "execution_count": 11,
   "metadata": {},
   "outputs": [
    {
     "name": "stdout",
     "output_type": "stream",
     "text": [
      "Epoch 1/100\n",
      "313/313 [==============================] - 12s 37ms/step - loss: 0.6915 - accuracy: 0.5768 - val_loss: 0.6908 - val_accuracy: 0.5872\n",
      "Epoch 2/100\n",
      "313/313 [==============================] - 10s 32ms/step - loss: 0.6887 - accuracy: 0.6245 - val_loss: 0.6870 - val_accuracy: 0.6210\n",
      "Epoch 3/100\n",
      "313/313 [==============================] - 10s 32ms/step - loss: 0.6811 - accuracy: 0.6384 - val_loss: 0.6738 - val_accuracy: 0.5838\n",
      "Epoch 4/100\n",
      "313/313 [==============================] - 10s 33ms/step - loss: 0.6396 - accuracy: 0.6164 - val_loss: 0.6197 - val_accuracy: 0.6916\n",
      "Epoch 5/100\n",
      "313/313 [==============================] - 11s 35ms/step - loss: 0.5980 - accuracy: 0.7283 - val_loss: 0.5918 - val_accuracy: 0.7490\n",
      "Epoch 6/100\n",
      "313/313 [==============================] - 12s 38ms/step - loss: 0.5736 - accuracy: 0.7612 - val_loss: 0.5712 - val_accuracy: 0.7628\n",
      "Epoch 7/100\n",
      "313/313 [==============================] - 15s 48ms/step - loss: 0.5542 - accuracy: 0.7724 - val_loss: 0.5532 - val_accuracy: 0.7700\n",
      "Epoch 8/100\n",
      "313/313 [==============================] - 15s 47ms/step - loss: 0.5372 - accuracy: 0.7776 - val_loss: 0.5383 - val_accuracy: 0.7742\n",
      "Epoch 9/100\n",
      "313/313 [==============================] - 21s 68ms/step - loss: 0.5215 - accuracy: 0.7828 - val_loss: 0.5247 - val_accuracy: 0.7760\n",
      "Epoch 10/100\n",
      "313/313 [==============================] - 19s 61ms/step - loss: 0.5065 - accuracy: 0.7879 - val_loss: 0.5097 - val_accuracy: 0.7866\n",
      "Epoch 11/100\n",
      "313/313 [==============================] - 13s 41ms/step - loss: 0.4917 - accuracy: 0.7909 - val_loss: 0.4947 - val_accuracy: 0.7924\n",
      "Epoch 12/100\n",
      "313/313 [==============================] - 11s 37ms/step - loss: 0.4793 - accuracy: 0.7969 - val_loss: 0.4847 - val_accuracy: 0.7946\n",
      "Epoch 13/100\n",
      "313/313 [==============================] - 11s 37ms/step - loss: 0.4690 - accuracy: 0.7999 - val_loss: 0.4763 - val_accuracy: 0.7926\n",
      "Epoch 14/100\n",
      "313/313 [==============================] - 13s 40ms/step - loss: 0.4604 - accuracy: 0.8012 - val_loss: 0.4712 - val_accuracy: 0.7942\n",
      "Epoch 15/100\n",
      "313/313 [==============================] - 13s 40ms/step - loss: 0.4529 - accuracy: 0.8034 - val_loss: 0.4644 - val_accuracy: 0.7948\n",
      "Epoch 16/100\n",
      "313/313 [==============================] - 13s 43ms/step - loss: 0.4473 - accuracy: 0.8041 - val_loss: 0.4624 - val_accuracy: 0.7954\n",
      "Epoch 17/100\n",
      "313/313 [==============================] - 18s 57ms/step - loss: 0.4421 - accuracy: 0.8072 - val_loss: 0.4608 - val_accuracy: 0.7972\n",
      "Epoch 18/100\n",
      "313/313 [==============================] - 16s 52ms/step - loss: 0.4379 - accuracy: 0.8062 - val_loss: 0.4536 - val_accuracy: 0.7960\n",
      "Epoch 19/100\n",
      "313/313 [==============================] - 12s 39ms/step - loss: 0.4339 - accuracy: 0.8080 - val_loss: 0.4515 - val_accuracy: 0.7918\n",
      "Epoch 20/100\n",
      "313/313 [==============================] - 12s 37ms/step - loss: 0.4306 - accuracy: 0.8094 - val_loss: 0.4492 - val_accuracy: 0.7988\n",
      "Epoch 21/100\n",
      "313/313 [==============================] - 11s 35ms/step - loss: 0.4282 - accuracy: 0.8108 - val_loss: 0.4472 - val_accuracy: 0.7930\n",
      "Epoch 22/100\n",
      "313/313 [==============================] - 12s 37ms/step - loss: 0.4255 - accuracy: 0.8112 - val_loss: 0.4467 - val_accuracy: 0.7972\n",
      "Epoch 23/100\n",
      "313/313 [==============================] - 13s 40ms/step - loss: 0.4233 - accuracy: 0.8126 - val_loss: 0.4447 - val_accuracy: 0.7958\n",
      "Epoch 24/100\n",
      "313/313 [==============================] - 13s 43ms/step - loss: 0.4210 - accuracy: 0.8146 - val_loss: 0.4443 - val_accuracy: 0.8018\n",
      "Epoch 25/100\n",
      "313/313 [==============================] - 16s 52ms/step - loss: 0.4195 - accuracy: 0.8151 - val_loss: 0.4439 - val_accuracy: 0.7986\n",
      "Epoch 26/100\n",
      "313/313 [==============================] - 16s 50ms/step - loss: 0.4178 - accuracy: 0.8135 - val_loss: 0.4431 - val_accuracy: 0.7928\n",
      "Epoch 27/100\n",
      "313/313 [==============================] - 12s 39ms/step - loss: 0.4161 - accuracy: 0.8148 - val_loss: 0.4392 - val_accuracy: 0.7956\n",
      "Epoch 28/100\n",
      "313/313 [==============================] - 11s 36ms/step - loss: 0.4149 - accuracy: 0.8146 - val_loss: 0.4400 - val_accuracy: 0.7988\n",
      "Epoch 29/100\n",
      "313/313 [==============================] - 12s 38ms/step - loss: 0.4137 - accuracy: 0.8166 - val_loss: 0.4408 - val_accuracy: 0.8036\n",
      "Epoch 30/100\n",
      "313/313 [==============================] - 12s 39ms/step - loss: 0.4124 - accuracy: 0.8160 - val_loss: 0.4364 - val_accuracy: 0.7996\n",
      "Epoch 31/100\n",
      "313/313 [==============================] - 14s 44ms/step - loss: 0.4116 - accuracy: 0.8181 - val_loss: 0.4371 - val_accuracy: 0.8038\n",
      "Epoch 32/100\n",
      "313/313 [==============================] - 17s 55ms/step - loss: 0.4107 - accuracy: 0.8171 - val_loss: 0.4368 - val_accuracy: 0.8026\n",
      "Epoch 33/100\n",
      "313/313 [==============================] - 14s 43ms/step - loss: 0.4099 - accuracy: 0.8188 - val_loss: 0.4355 - val_accuracy: 0.8042\n",
      "Epoch 34/100\n",
      "313/313 [==============================] - 12s 39ms/step - loss: 0.4084 - accuracy: 0.8163 - val_loss: 0.4356 - val_accuracy: 0.8020\n",
      "Epoch 35/100\n",
      "313/313 [==============================] - 11s 34ms/step - loss: 0.4079 - accuracy: 0.8187 - val_loss: 0.4355 - val_accuracy: 0.8068\n",
      "Epoch 36/100\n",
      "313/313 [==============================] - 11s 36ms/step - loss: 0.4065 - accuracy: 0.8193 - val_loss: 0.4337 - val_accuracy: 0.8032\n",
      "Epoch 37/100\n",
      "313/313 [==============================] - 13s 41ms/step - loss: 0.4060 - accuracy: 0.8192 - val_loss: 0.4323 - val_accuracy: 0.8016\n",
      "Epoch 38/100\n",
      "313/313 [==============================] - 14s 44ms/step - loss: 0.4052 - accuracy: 0.8194 - val_loss: 0.4343 - val_accuracy: 0.8008\n",
      "Epoch 39/100\n",
      "313/313 [==============================] - 18s 56ms/step - loss: 0.4041 - accuracy: 0.8188 - val_loss: 0.4314 - val_accuracy: 0.8028\n",
      "Epoch 40/100\n",
      "313/313 [==============================] - 14s 44ms/step - loss: 0.4035 - accuracy: 0.8205 - val_loss: 0.4311 - val_accuracy: 0.8054\n",
      "Epoch 41/100\n",
      "313/313 [==============================] - 12s 37ms/step - loss: 0.4026 - accuracy: 0.8207 - val_loss: 0.4304 - val_accuracy: 0.8050\n",
      "Epoch 42/100\n",
      "313/313 [==============================] - 11s 36ms/step - loss: 0.4020 - accuracy: 0.8213 - val_loss: 0.4318 - val_accuracy: 0.8010\n",
      "Epoch 43/100\n",
      "313/313 [==============================] - 12s 38ms/step - loss: 0.4016 - accuracy: 0.8210 - val_loss: 0.4305 - val_accuracy: 0.8042\n",
      "Epoch 44/100\n",
      "313/313 [==============================] - 12s 40ms/step - loss: 0.4007 - accuracy: 0.8219 - val_loss: 0.4324 - val_accuracy: 0.8050\n"
     ]
    }
   ],
   "source": [
    "rmsprop = keras.optimizers.RMSprop(learning_rate=1e-4)\n",
    "model.compile(optimizer=rmsprop, loss='binary_crossentropy', metrics='accuracy')\n",
    "checkpoint_cb = keras.callbacks.ModelCheckpoint('best-lstm-model.h5', save_best_only=True)\n",
    "early_stopping_cb = keras.callbacks.EarlyStopping(patience=3, restore_best_weights=True)\n",
    "history = model.fit(train_seq, train_target, epochs=100, validation_data=(val_seq, val_target), batch_size=64, callbacks=[checkpoint_cb, early_stopping_cb])"
   ]
  },
  {
   "cell_type": "code",
   "execution_count": 13,
   "metadata": {},
   "outputs": [
    {
     "data": {
      "image/png": "[encoded data removed]",
      "text/plain": [
       "<Figure size 432x288 with 1 Axes>"
      ]
     },
     "metadata": {
      "needs_background": "light"
     },
     "output_type": "display_data"
    }
   ],
   "source": [
    "plt.plot(history.history['loss'])\n",
    "plt.plot(history.history['val_loss'])\n",
    "plt.xlabel('epoch')\n",
    "plt.ylabel('loss')\n",
    "plt.legend(['train', 'val'])\n",
    "plt.show()"
   ]
  },
  {
   "cell_type": "code",
   "execution_count": 15,
   "metadata": {},
   "outputs": [],
   "source": [
    "model2 = keras.Sequential()\n",
    "model2.add(keras.layers.Embedding(500, 16, input_length=100))\n",
    "model2.add(keras.layers.LSTM(8, dropout=0.3))\n",
    "model2.add(keras.layers.Dense(1, activation='sigmoid'))"
   ]
  },
  {
   "cell_type": "code",
   "execution_count": 17,
   "metadata": {},
   "outputs": [
    {
     "name": "stdout",
     "output_type": "stream",
     "text": [
      "Epoch 1/100\n",
      "313/313 [==============================] - 10s 33ms/step - loss: 0.6910 - accuracy: 0.5896 - val_loss: 0.6900 - val_accuracy: 0.6138\n",
      "Epoch 2/100\n",
      "313/313 [==============================] - 11s 35ms/step - loss: 0.6880 - accuracy: 0.6215 - val_loss: 0.6860 - val_accuracy: 0.6332\n",
      "Epoch 3/100\n",
      "313/313 [==============================] - 11s 34ms/step - loss: 0.6824 - accuracy: 0.6330 - val_loss: 0.6777 - val_accuracy: 0.6494\n",
      "Epoch 4/100\n",
      "313/313 [==============================] - 11s 35ms/step - loss: 0.6677 - accuracy: 0.6479 - val_loss: 0.6503 - val_accuracy: 0.6852\n",
      "Epoch 5/100\n",
      "313/313 [==============================] - 13s 40ms/step - loss: 0.6195 - accuracy: 0.7174 - val_loss: 0.5895 - val_accuracy: 0.7392\n",
      "Epoch 6/100\n",
      "313/313 [==============================] - 14s 45ms/step - loss: 0.5800 - accuracy: 0.7387 - val_loss: 0.5670 - val_accuracy: 0.7448\n",
      "Epoch 7/100\n",
      "313/313 [==============================] - 15s 47ms/step - loss: 0.5581 - accuracy: 0.7466 - val_loss: 0.5509 - val_accuracy: 0.7466\n",
      "Epoch 8/100\n",
      "313/313 [==============================] - 20s 65ms/step - loss: 0.5376 - accuracy: 0.7570 - val_loss: 0.5266 - val_accuracy: 0.7662\n",
      "Epoch 9/100\n",
      "313/313 [==============================] - 26s 82ms/step - loss: 0.5197 - accuracy: 0.7647 - val_loss: 0.5091 - val_accuracy: 0.7732\n",
      "Epoch 10/100\n",
      "313/313 [==============================] - 13s 42ms/step - loss: 0.5041 - accuracy: 0.7727 - val_loss: 0.4966 - val_accuracy: 0.7776\n",
      "Epoch 11/100\n",
      "313/313 [==============================] - 12s 38ms/step - loss: 0.4925 - accuracy: 0.7788 - val_loss: 0.4867 - val_accuracy: 0.7810\n",
      "Epoch 12/100\n",
      "313/313 [==============================] - 13s 41ms/step - loss: 0.4816 - accuracy: 0.7840 - val_loss: 0.4786 - val_accuracy: 0.7840\n",
      "Epoch 13/100\n",
      "313/313 [==============================] - 14s 46ms/step - loss: 0.4746 - accuracy: 0.7863 - val_loss: 0.4716 - val_accuracy: 0.7868\n",
      "Epoch 14/100\n",
      "313/313 [==============================] - 17s 53ms/step - loss: 0.4677 - accuracy: 0.7877 - val_loss: 0.4662 - val_accuracy: 0.7848\n",
      "Epoch 15/100\n",
      "313/313 [==============================] - 17s 55ms/step - loss: 0.4622 - accuracy: 0.7929 - val_loss: 0.4617 - val_accuracy: 0.7902\n",
      "Epoch 16/100\n",
      "313/313 [==============================] - 20s 65ms/step - loss: 0.4562 - accuracy: 0.7966 - val_loss: 0.4604 - val_accuracy: 0.7886\n",
      "Epoch 17/100\n",
      "313/313 [==============================] - 13s 43ms/step - loss: 0.4525 - accuracy: 0.7974 - val_loss: 0.4549 - val_accuracy: 0.7948\n",
      "Epoch 18/100\n",
      "313/313 [==============================] - 12s 37ms/step - loss: 0.4496 - accuracy: 0.7977 - val_loss: 0.4522 - val_accuracy: 0.7926\n",
      "Epoch 19/100\n",
      "313/313 [==============================] - 11s 36ms/step - loss: 0.4456 - accuracy: 0.8005 - val_loss: 0.4522 - val_accuracy: 0.7914\n",
      "Epoch 20/100\n",
      "313/313 [==============================] - 12s 38ms/step - loss: 0.4418 - accuracy: 0.8019 - val_loss: 0.4481 - val_accuracy: 0.7956\n",
      "Epoch 21/100\n",
      "313/313 [==============================] - 13s 42ms/step - loss: 0.4398 - accuracy: 0.8016 - val_loss: 0.4456 - val_accuracy: 0.7972\n",
      "Epoch 22/100\n",
      "313/313 [==============================] - 14s 46ms/step - loss: 0.4362 - accuracy: 0.8055 - val_loss: 0.4442 - val_accuracy: 0.7968\n",
      "Epoch 23/100\n",
      "313/313 [==============================] - 20s 65ms/step - loss: 0.4349 - accuracy: 0.8043 - val_loss: 0.4416 - val_accuracy: 0.7986\n",
      "Epoch 24/100\n",
      "313/313 [==============================] - 17s 54ms/step - loss: 0.4325 - accuracy: 0.8067 - val_loss: 0.4415 - val_accuracy: 0.7956\n",
      "Epoch 25/100\n",
      "313/313 [==============================] - 13s 40ms/step - loss: 0.4294 - accuracy: 0.8098 - val_loss: 0.4397 - val_accuracy: 0.7992\n",
      "Epoch 26/100\n",
      "313/313 [==============================] - 11s 36ms/step - loss: 0.4291 - accuracy: 0.8062 - val_loss: 0.4381 - val_accuracy: 0.7988\n",
      "Epoch 27/100\n",
      "313/313 [==============================] - 12s 39ms/step - loss: 0.4266 - accuracy: 0.8079 - val_loss: 0.4394 - val_accuracy: 0.7978\n",
      "Epoch 28/100\n",
      "313/313 [==============================] - 12s 38ms/step - loss: 0.4263 - accuracy: 0.8092 - val_loss: 0.4351 - val_accuracy: 0.8000\n",
      "Epoch 29/100\n",
      "313/313 [==============================] - 14s 44ms/step - loss: 0.4232 - accuracy: 0.8084 - val_loss: 0.4361 - val_accuracy: 0.7994\n",
      "Epoch 30/100\n",
      "313/313 [==============================] - 15s 48ms/step - loss: 0.4211 - accuracy: 0.8117 - val_loss: 0.4342 - val_accuracy: 0.8024\n",
      "Epoch 31/100\n",
      "313/313 [==============================] - 22s 70ms/step - loss: 0.4212 - accuracy: 0.8098 - val_loss: 0.4325 - val_accuracy: 0.8014\n",
      "Epoch 32/100\n",
      "313/313 [==============================] - 13s 42ms/step - loss: 0.4187 - accuracy: 0.8094 - val_loss: 0.4314 - val_accuracy: 0.8012\n",
      "Epoch 33/100\n",
      "313/313 [==============================] - 12s 38ms/step - loss: 0.4205 - accuracy: 0.8090 - val_loss: 0.4325 - val_accuracy: 0.7980\n",
      "Epoch 34/100\n",
      "313/313 [==============================] - 11s 36ms/step - loss: 0.4187 - accuracy: 0.8123 - val_loss: 0.4305 - val_accuracy: 0.7986\n",
      "Epoch 35/100\n",
      "313/313 [==============================] - 13s 41ms/step - loss: 0.4167 - accuracy: 0.8127 - val_loss: 0.4306 - val_accuracy: 0.8050\n",
      "Epoch 36/100\n",
      "313/313 [==============================] - 13s 42ms/step - loss: 0.4174 - accuracy: 0.8114 - val_loss: 0.4286 - val_accuracy: 0.7998\n",
      "Epoch 37/100\n",
      "313/313 [==============================] - 16s 50ms/step - loss: 0.4150 - accuracy: 0.8141 - val_loss: 0.4282 - val_accuracy: 0.8006\n",
      "Epoch 38/100\n",
      "313/313 [==============================] - 20s 62ms/step - loss: 0.4137 - accuracy: 0.8134 - val_loss: 0.4348 - val_accuracy: 0.7908\n",
      "Epoch 39/100\n",
      "313/313 [==============================] - 13s 41ms/step - loss: 0.4141 - accuracy: 0.8112 - val_loss: 0.4275 - val_accuracy: 0.7994\n",
      "Epoch 40/100\n",
      "313/313 [==============================] - 12s 40ms/step - loss: 0.4124 - accuracy: 0.8135 - val_loss: 0.4265 - val_accuracy: 0.8036\n",
      "Epoch 41/100\n",
      "313/313 [==============================] - 12s 37ms/step - loss: 0.4112 - accuracy: 0.8148 - val_loss: 0.4263 - val_accuracy: 0.8034\n",
      "Epoch 42/100\n",
      "313/313 [==============================] - 12s 40ms/step - loss: 0.4122 - accuracy: 0.8119 - val_loss: 0.4252 - val_accuracy: 0.8068\n",
      "Epoch 43/100\n",
      "313/313 [==============================] - 13s 43ms/step - loss: 0.4093 - accuracy: 0.8144 - val_loss: 0.4263 - val_accuracy: 0.8032\n",
      "Epoch 44/100\n",
      "313/313 [==============================] - 14s 45ms/step - loss: 0.4106 - accuracy: 0.8131 - val_loss: 0.4271 - val_accuracy: 0.8038\n",
      "Epoch 45/100\n",
      "313/313 [==============================] - 20s 62ms/step - loss: 0.4055 - accuracy: 0.8152 - val_loss: 0.4276 - val_accuracy: 0.8068\n"
     ]
    }
   ],
   "source": [
    "rmsprop = keras.optimizers.RMSprop(learning_rate=1e-4)\n",
    "model2.compile(optimizer=rmsprop, loss='binary_crossentropy', metrics='accuracy')\n",
    "checkpoint_cb = keras.callbacks.ModelCheckpoint('best-dropout-model.h5', save_best_only=True)\n",
    "early_stopping_cb = keras.callbacks.EarlyStopping(patience=3, restore_best_weights=True)\n",
    "history = model2.fit(train_seq, train_target, epochs=100, batch_size=64, validation_data=(val_seq, val_target), callbacks=[checkpoint_cb, early_stopping_cb])"
   ]
  },
  {
   "cell_type": "code",
   "execution_count": 18,
   "metadata": {},
   "outputs": [
    {
     "data": {
      "image/png": "[encoded data removed]",
      "text/plain": [
       "<Figure size 432x288 with 1 Axes>"
      ]
     },
     "metadata": {
      "needs_background": "light"
     },
     "output_type": "display_data"
    }
   ],
   "source": [
    "plt.plot(history.history['loss'])\n",
    "plt.plot(history.history['val_loss'])\n",
    "plt.xlabel('epoch')\n",
    "plt.ylabel('loss')\n",
    "plt.legend(['train', 'val'])\n",
    "plt.show()"
   ]
  },
  {
   "cell_type": "code",
   "execution_count": 19,
   "metadata": {},
   "outputs": [],
   "source": [
    "model3 = keras.Sequential()\n",
    "model3.add(keras.layers.Embedding(500, 16, input_length=100))\n",
    "model3.add(keras.layers.LSTM(8, dropout=0.3, return_sequences=True))\n",
    "model3.add(keras.layers.LSTM(8, dropout=0.3))\n",
    "model3.add(keras.layers.Dense(1, activation='sigmoid'))"
   ]
  },
  {
   "cell_type": "code",
   "execution_count": 25,
   "metadata": {},
   "outputs": [
    {
     "name": "stdout",
     "output_type": "stream",
     "text": [
      "Model: \"sequential_3\"\n",
      "_________________________________________________________________\n",
      "Layer (type)                 Output Shape              Param #   \n",
      "=================================================================\n",
      "embedding_3 (Embedding)      (None, 100, 16)           8000      \n",
      "_________________________________________________________________\n",
      "lstm_3 (LSTM)                (None, 100, 8)            800       \n",
      "_________________________________________________________________\n",
      "lstm_4 (LSTM)                (None, 8)                 544       \n",
      "_________________________________________________________________\n",
      "dense_2 (Dense)              (None, 1)                 9         \n",
      "=================================================================\n",
      "Total params: 9,353\n",
      "Trainable params: 9,353\n",
      "Non-trainable params: 0\n",
      "_________________________________________________________________\n"
     ]
    }
   ],
   "source": [
    "model3.summary()"
   ]
  },
  {
   "cell_type": "code",
   "execution_count": 26,
   "metadata": {},
   "outputs": [
    {
     "name": "stdout",
     "output_type": "stream",
     "text": [
      "Epoch 1/100\n",
      "313/313 [==============================] - 22s 69ms/step - loss: 0.6913 - accuracy: 0.5831 - val_loss: 0.6900 - val_accuracy: 0.5802\n",
      "Epoch 2/100\n",
      "313/313 [==============================] - 23s 75ms/step - loss: 0.6850 - accuracy: 0.6327 - val_loss: 0.6776 - val_accuracy: 0.6700\n",
      "Epoch 3/100\n",
      "313/313 [==============================] - 26s 84ms/step - loss: 0.6477 - accuracy: 0.6758 - val_loss: 0.6035 - val_accuracy: 0.7162\n",
      "Epoch 4/100\n",
      "313/313 [==============================] - 33s 105ms/step - loss: 0.5717 - accuracy: 0.7215 - val_loss: 0.5494 - val_accuracy: 0.7244\n",
      "Epoch 5/100\n",
      "313/313 [==============================] - 23s 73ms/step - loss: 0.5386 - accuracy: 0.7359 - val_loss: 0.5272 - val_accuracy: 0.7414\n",
      "Epoch 6/100\n",
      "313/313 [==============================] - 23s 74ms/step - loss: 0.5176 - accuracy: 0.7517 - val_loss: 0.5145 - val_accuracy: 0.7520\n",
      "Epoch 7/100\n",
      "313/313 [==============================] - 26s 83ms/step - loss: 0.5027 - accuracy: 0.7627 - val_loss: 0.4958 - val_accuracy: 0.7650\n",
      "Epoch 8/100\n",
      "313/313 [==============================] - 29s 93ms/step - loss: 0.4876 - accuracy: 0.7742 - val_loss: 0.4841 - val_accuracy: 0.7706\n",
      "Epoch 9/100\n",
      "313/313 [==============================] - 26s 82ms/step - loss: 0.4812 - accuracy: 0.7731 - val_loss: 0.4733 - val_accuracy: 0.7770\n",
      "Epoch 10/100\n",
      "313/313 [==============================] - 25s 80ms/step - loss: 0.4710 - accuracy: 0.7825 - val_loss: 0.4667 - val_accuracy: 0.7804\n",
      "Epoch 11/100\n",
      "313/313 [==============================] - 34s 107ms/step - loss: 0.4612 - accuracy: 0.7879 - val_loss: 0.4710 - val_accuracy: 0.7760\n",
      "Epoch 12/100\n",
      "313/313 [==============================] - 25s 79ms/step - loss: 0.4586 - accuracy: 0.7893 - val_loss: 0.4556 - val_accuracy: 0.7862\n",
      "Epoch 13/100\n",
      "313/313 [==============================] - 25s 79ms/step - loss: 0.4530 - accuracy: 0.7916 - val_loss: 0.4525 - val_accuracy: 0.7910\n",
      "Epoch 14/100\n",
      "313/313 [==============================] - 30s 95ms/step - loss: 0.4486 - accuracy: 0.7921 - val_loss: 0.4513 - val_accuracy: 0.7882\n",
      "Epoch 15/100\n",
      "313/313 [==============================] - 28s 91ms/step - loss: 0.4430 - accuracy: 0.7979 - val_loss: 0.4482 - val_accuracy: 0.7882\n",
      "Epoch 16/100\n",
      "313/313 [==============================] - 24s 76ms/step - loss: 0.4426 - accuracy: 0.7961 - val_loss: 0.4475 - val_accuracy: 0.7964\n",
      "Epoch 17/100\n",
      "313/313 [==============================] - 28s 88ms/step - loss: 0.4402 - accuracy: 0.7965 - val_loss: 0.4454 - val_accuracy: 0.7888\n",
      "Epoch 18/100\n",
      "313/313 [==============================] - 30s 95ms/step - loss: 0.4361 - accuracy: 0.8025 - val_loss: 0.4438 - val_accuracy: 0.7984\n",
      "Epoch 19/100\n",
      "313/313 [==============================] - 23s 74ms/step - loss: 0.4342 - accuracy: 0.7995 - val_loss: 0.4422 - val_accuracy: 0.7902\n",
      "Epoch 20/100\n",
      "313/313 [==============================] - 25s 81ms/step - loss: 0.4346 - accuracy: 0.7979 - val_loss: 0.4408 - val_accuracy: 0.7934\n",
      "Epoch 21/100\n",
      "313/313 [==============================] - 32s 103ms/step - loss: 0.4314 - accuracy: 0.8044 - val_loss: 0.4402 - val_accuracy: 0.7902\n",
      "Epoch 22/100\n",
      "313/313 [==============================] - 25s 79ms/step - loss: 0.4309 - accuracy: 0.7989 - val_loss: 0.4386 - val_accuracy: 0.7940\n",
      "Epoch 23/100\n",
      "313/313 [==============================] - 24s 77ms/step - loss: 0.4282 - accuracy: 0.8025 - val_loss: 0.4382 - val_accuracy: 0.7948\n",
      "Epoch 24/100\n",
      "313/313 [==============================] - 29s 93ms/step - loss: 0.4293 - accuracy: 0.8019 - val_loss: 0.4422 - val_accuracy: 0.7870\n",
      "Epoch 25/100\n",
      "313/313 [==============================] - 27s 87ms/step - loss: 0.4279 - accuracy: 0.8045 - val_loss: 0.4372 - val_accuracy: 0.7930\n",
      "Epoch 26/100\n",
      "313/313 [==============================] - 23s 73ms/step - loss: 0.4272 - accuracy: 0.8035 - val_loss: 0.4399 - val_accuracy: 0.7928\n",
      "Epoch 27/100\n",
      "313/313 [==============================] - 26s 84ms/step - loss: 0.4262 - accuracy: 0.8043 - val_loss: 0.4373 - val_accuracy: 0.7918\n",
      "Epoch 28/100\n",
      "313/313 [==============================] - 32s 101ms/step - loss: 0.4243 - accuracy: 0.8043 - val_loss: 0.4381 - val_accuracy: 0.7902\n"
     ]
    }
   ],
   "source": [
    "rmsprop = keras.optimizers.RMSprop(learning_rate=1e-4)\n",
    "model3.compile(optimizer=rmsprop, loss='binary_crossentropy', metrics='accuracy')\n",
    "checkpoint_cb = keras.callbacks.ModelCheckpoint('best-2rnn-model.h5', save_best_only=True)\n",
    "early_stopping_cb = keras.callbacks.EarlyStopping(patience=3, restore_best_weights=True)\n",
    "history = model3.fit(train_seq, train_target, epochs=100, batch_size=64, validation_data=(val_seq, val_target), callbacks=[checkpoint_cb, early_stopping_cb])"
   ]
  },
  {
   "cell_type": "code",
   "execution_count": 28,
   "metadata": {},
   "outputs": [
    {
     "data": {
      "image/png": "[encoded data removed]",
      "text/plain": [
       "<Figure size 432x288 with 1 Axes>"
      ]
     },
     "metadata": {
      "needs_background": "light"
     },
     "output_type": "display_data"
    }
   ],
   "source": [
    "plt.plot(history.history['loss'])\n",
    "plt.plot(history.history['val_loss'])\n",
    "plt.xlabel('epoch')\n",
    "plt.ylabel('loss')\n",
    "plt.legend(['train', 'val'])\n",
    "plt.show()"
   ]
  },
  {
   "cell_type": "code",
   "execution_count": 39,
   "metadata": {},
   "outputs": [],
   "source": [
    "model4 = keras.Sequential()\n",
    "model4.add(keras.layers.Embedding(500, 16, input_length=100))\n",
    "model4.add(keras.layers.GRU(8))\n",
    "model4.add(keras.layers.Dense(1, activation='sigmoid'))"
   ]
  },
  {
   "cell_type": "code",
   "execution_count": 40,
   "metadata": {},
   "outputs": [
    {
     "name": "stdout",
     "output_type": "stream",
     "text": [
      "Model: \"sequential_6\"\n",
      "_________________________________________________________________\n",
      "Layer (type)                 Output Shape              Param #   \n",
      "=================================================================\n",
      "embedding_6 (Embedding)      (None, 100, 16)           8000      \n",
      "_________________________________________________________________\n",
      "gru_1 (GRU)                  (None, 8)                 624       \n",
      "_________________________________________________________________\n",
      "dense_5 (Dense)              (None, 1)                 9         \n",
      "=================================================================\n",
      "Total params: 8,633\n",
      "Trainable params: 8,633\n",
      "Non-trainable params: 0\n",
      "_________________________________________________________________\n"
     ]
    }
   ],
   "source": [
    "model4.summary()"
   ]
  },
  {
   "cell_type": "code",
   "execution_count": 41,
   "metadata": {},
   "outputs": [
    {
     "name": "stdout",
     "output_type": "stream",
     "text": [
      "Epoch 1/100\n",
      "313/313 [==============================] - 10s 33ms/step - loss: 0.6926 - accuracy: 0.5263 - val_loss: 0.6920 - val_accuracy: 0.5368\n",
      "Epoch 2/100\n",
      "313/313 [==============================] - 10s 32ms/step - loss: 0.6906 - accuracy: 0.5712 - val_loss: 0.6897 - val_accuracy: 0.5736\n",
      "Epoch 3/100\n",
      "313/313 [==============================] - 10s 33ms/step - loss: 0.6873 - accuracy: 0.5993 - val_loss: 0.6858 - val_accuracy: 0.5980\n",
      "Epoch 4/100\n",
      "313/313 [==============================] - 11s 35ms/step - loss: 0.6815 - accuracy: 0.6211 - val_loss: 0.6786 - val_accuracy: 0.6176\n",
      "Epoch 5/100\n",
      "313/313 [==============================] - 11s 34ms/step - loss: 0.6710 - accuracy: 0.6385 - val_loss: 0.6657 - val_accuracy: 0.6366\n",
      "Epoch 6/100\n",
      "313/313 [==============================] - 13s 42ms/step - loss: 0.6518 - accuracy: 0.6581 - val_loss: 0.6408 - val_accuracy: 0.6646\n",
      "Epoch 7/100\n",
      "313/313 [==============================] - 21s 68ms/step - loss: 0.6113 - accuracy: 0.6956 - val_loss: 0.5807 - val_accuracy: 0.7132\n",
      "Epoch 8/100\n",
      "313/313 [==============================] - 22s 71ms/step - loss: 0.5363 - accuracy: 0.7402 - val_loss: 0.5229 - val_accuracy: 0.7488\n",
      "Epoch 9/100\n",
      "313/313 [==============================] - 32s 103ms/step - loss: 0.5050 - accuracy: 0.7589 - val_loss: 0.5040 - val_accuracy: 0.7590\n",
      "Epoch 10/100\n",
      "313/313 [==============================] - 17s 53ms/step - loss: 0.4871 - accuracy: 0.7725 - val_loss: 0.4897 - val_accuracy: 0.7684\n",
      "Epoch 11/100\n",
      "313/313 [==============================] - 11s 36ms/step - loss: 0.4738 - accuracy: 0.7805 - val_loss: 0.4795 - val_accuracy: 0.7768\n",
      "Epoch 12/100\n",
      "313/313 [==============================] - 12s 38ms/step - loss: 0.4633 - accuracy: 0.7876 - val_loss: 0.4716 - val_accuracy: 0.7818\n",
      "Epoch 13/100\n",
      "313/313 [==============================] - 13s 40ms/step - loss: 0.4550 - accuracy: 0.7944 - val_loss: 0.4651 - val_accuracy: 0.7838\n",
      "Epoch 14/100\n",
      "313/313 [==============================] - 14s 45ms/step - loss: 0.4485 - accuracy: 0.7962 - val_loss: 0.4604 - val_accuracy: 0.7884\n",
      "Epoch 15/100\n",
      "313/313 [==============================] - 17s 53ms/step - loss: 0.4431 - accuracy: 0.8001 - val_loss: 0.4570 - val_accuracy: 0.7852\n",
      "Epoch 16/100\n",
      "313/313 [==============================] - 16s 51ms/step - loss: 0.4389 - accuracy: 0.8019 - val_loss: 0.4543 - val_accuracy: 0.7868\n",
      "Epoch 17/100\n",
      "313/313 [==============================] - 13s 42ms/step - loss: 0.4348 - accuracy: 0.8047 - val_loss: 0.4522 - val_accuracy: 0.7932\n",
      "Epoch 18/100\n",
      "313/313 [==============================] - 12s 38ms/step - loss: 0.4318 - accuracy: 0.8065 - val_loss: 0.4502 - val_accuracy: 0.7936\n",
      "Epoch 19/100\n",
      "313/313 [==============================] - 12s 39ms/step - loss: 0.4295 - accuracy: 0.8074 - val_loss: 0.4513 - val_accuracy: 0.7888\n",
      "Epoch 20/100\n",
      "313/313 [==============================] - 13s 41ms/step - loss: 0.4269 - accuracy: 0.8098 - val_loss: 0.4477 - val_accuracy: 0.7936\n",
      "Epoch 21/100\n",
      "313/313 [==============================] - 15s 47ms/step - loss: 0.4252 - accuracy: 0.8115 - val_loss: 0.4468 - val_accuracy: 0.7928\n",
      "Epoch 22/100\n",
      "313/313 [==============================] - 13s 42ms/step - loss: 0.4234 - accuracy: 0.8126 - val_loss: 0.4540 - val_accuracy: 0.7900\n",
      "Epoch 23/100\n",
      "313/313 [==============================] - 12s 38ms/step - loss: 0.4222 - accuracy: 0.8131 - val_loss: 0.4467 - val_accuracy: 0.7934\n",
      "Epoch 24/100\n",
      "313/313 [==============================] - 12s 40ms/step - loss: 0.4206 - accuracy: 0.8127 - val_loss: 0.4463 - val_accuracy: 0.7912\n",
      "Epoch 25/100\n",
      "313/313 [==============================] - 14s 44ms/step - loss: 0.4197 - accuracy: 0.8127 - val_loss: 0.4493 - val_accuracy: 0.7938\n",
      "Epoch 26/100\n",
      "313/313 [==============================] - 14s 46ms/step - loss: 0.4187 - accuracy: 0.8145 - val_loss: 0.4437 - val_accuracy: 0.7950\n",
      "Epoch 27/100\n",
      "313/313 [==============================] - 13s 42ms/step - loss: 0.4179 - accuracy: 0.8152 - val_loss: 0.4468 - val_accuracy: 0.7906\n",
      "Epoch 28/100\n",
      "313/313 [==============================] - 12s 37ms/step - loss: 0.4173 - accuracy: 0.8151 - val_loss: 0.4442 - val_accuracy: 0.7954\n",
      "Epoch 29/100\n",
      "313/313 [==============================] - 12s 37ms/step - loss: 0.4167 - accuracy: 0.8153 - val_loss: 0.4425 - val_accuracy: 0.7944\n",
      "Epoch 30/100\n",
      "313/313 [==============================] - 13s 41ms/step - loss: 0.4154 - accuracy: 0.8167 - val_loss: 0.4429 - val_accuracy: 0.7964\n",
      "Epoch 31/100\n",
      "313/313 [==============================] - 14s 46ms/step - loss: 0.4147 - accuracy: 0.8174 - val_loss: 0.4417 - val_accuracy: 0.7960\n",
      "Epoch 32/100\n",
      "313/313 [==============================] - 15s 48ms/step - loss: 0.4146 - accuracy: 0.8167 - val_loss: 0.4417 - val_accuracy: 0.7956\n",
      "Epoch 33/100\n",
      "313/313 [==============================] - 14s 44ms/step - loss: 0.4137 - accuracy: 0.8159 - val_loss: 0.4414 - val_accuracy: 0.7964\n",
      "Epoch 34/100\n",
      "313/313 [==============================] - 11s 37ms/step - loss: 0.4136 - accuracy: 0.8162 - val_loss: 0.4406 - val_accuracy: 0.7958\n",
      "Epoch 35/100\n",
      "313/313 [==============================] - 12s 38ms/step - loss: 0.4131 - accuracy: 0.8173 - val_loss: 0.4407 - val_accuracy: 0.7960\n",
      "Epoch 36/100\n",
      "313/313 [==============================] - 12s 39ms/step - loss: 0.4127 - accuracy: 0.8167 - val_loss: 0.4437 - val_accuracy: 0.7926\n",
      "Epoch 37/100\n",
      "313/313 [==============================] - 14s 44ms/step - loss: 0.4126 - accuracy: 0.8171 - val_loss: 0.4409 - val_accuracy: 0.7964\n"
     ]
    }
   ],
   "source": [
    "rmsprop = keras.optimizers.RMSprop(learning_rate=1e-4)\n",
    "model4.compile(optimizer=rmsprop, loss='binary_crossentropy', metrics='accuracy')\n",
    "checkpoint_cb = keras.callbacks.ModelCheckpoint('best-gru-model.h5', save_best_only=True)\n",
    "early_stopping_cb = keras.callbacks.EarlyStopping(patience=3, restore_best_weights=True)\n",
    "history = model4.fit(train_seq, train_target, epochs=100, batch_size=64, validation_data=(val_seq, val_target), callbacks=[checkpoint_cb, early_stopping_cb])"
   ]
  },
  {
   "cell_type": "code",
   "execution_count": 42,
   "metadata": {},
   "outputs": [
    {
     "data": {
      "image/png": "[encoded data removed]",
      "text/plain": [
       "<Figure size 432x288 with 1 Axes>"
      ]
     },
     "metadata": {
      "needs_background": "light"
     },
     "output_type": "display_data"
    }
   ],
   "source": [
    "plt.plot(history.history['loss'])\n",
    "plt.plot(history.history['val_loss'])\n",
    "plt.xlabel('epoch')\n",
    "plt.ylabel('loss')\n",
    "plt.legend(['train', 'val'])\n",
    "plt.show()"
   ]
  },
  {
   "cell_type": "code",
   "execution_count": 43,
   "metadata": {},
   "outputs": [
    {
     "name": "stdout",
     "output_type": "stream",
     "text": [
      "782/782 [==============================] - 8s 10ms/step - loss: 0.4303 - accuracy: 0.8000\n"
     ]
    },
    {
     "data": {
      "text/plain": [
       "[0.43030714988708496, 0.800000011920929]"
      ]
     },
     "execution_count": 43,
     "metadata": {},
     "output_type": "execute_result"
    }
   ],
   "source": [
    "test_seq = pad_sequences(test_input, maxlen=100)\n",
    "rnn_model = keras.models.load_model('best-2rnn-model.h5')\n",
    "rnn_model.evaluate(test_seq, test_target)"
   ]
  }
 ],
 "metadata": {
  "interpreter": {
   "hash": "6d46af94c2bbce495f1e668725902fa517c90b1782bcfe2fce0dd9868df553d3"
  },
  "kernelspec": {
   "display_name": "Python 3.8.8 64-bit ('base': conda)",
   "language": "python",
   "name": "python3"
  },
  "language_info": {
   "codemirror_mode": {
    "name": "ipython",
    "version": 3
   },
   "file_extension": ".py",
   "mimetype": "text/x-python",
   "name": "python",
   "nbconvert_exporter": "python",
   "pygments_lexer": "ipython3",
   "version": "3.8.8"
  },
  "orig_nbformat": 4
 },
 "nbformat": 4,
 "nbformat_minor": 2
}
