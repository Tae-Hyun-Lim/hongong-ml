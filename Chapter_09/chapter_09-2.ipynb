{
 "cells": [
  {
   "cell_type": "code",
   "execution_count": 1,
   "metadata": {},
   "outputs": [],
   "source": [
    "import numpy as np\n",
    "\n",
    "from tensorflow.keras.datasets import imdb\n",
    "\n",
    "import matplotlib.pyplot as plt\n",
    "\n",
    "from sklearn.model_selection import train_test_split\n",
    "from tensorflow.keras.preprocessing.sequence import pad_sequences\n",
    "\n",
    "from tensorflow import keras"
   ]
  },
  {
   "cell_type": "code",
   "execution_count": 2,
   "metadata": {},
   "outputs": [
    {
     "name": "stderr",
     "output_type": "stream",
     "text": [
      "<__array_function__ internals>:5: VisibleDeprecationWarning: Creating an ndarray from ragged nested sequences (which is a list-or-tuple of lists-or-tuples-or ndarrays with different lengths or shapes) is deprecated. If you meant to do this, you must specify 'dtype=object' when creating the ndarray\n",
      "C:\\Users\\user\\anaconda3\\lib\\site-packages\\tensorflow\\python\\keras\\datasets\\imdb.py:159: VisibleDeprecationWarning: Creating an ndarray from ragged nested sequences (which is a list-or-tuple of lists-or-tuples-or ndarrays with different lengths or shapes) is deprecated. If you meant to do this, you must specify 'dtype=object' when creating the ndarray\n",
      "  x_train, y_train = np.array(xs[:idx]), np.array(labels[:idx])\n",
      "C:\\Users\\user\\anaconda3\\lib\\site-packages\\tensorflow\\python\\keras\\datasets\\imdb.py:160: VisibleDeprecationWarning: Creating an ndarray from ragged nested sequences (which is a list-or-tuple of lists-or-tuples-or ndarrays with different lengths or shapes) is deprecated. If you meant to do this, you must specify 'dtype=object' when creating the ndarray\n",
      "  x_test, y_test = np.array(xs[idx:]), np.array(labels[idx:])\n"
     ]
    }
   ],
   "source": [
    "(train_input, train_target), (test_input, test_target) = imdb.load_data(num_words=500)"
   ]
  },
  {
   "cell_type": "code",
   "execution_count": 3,
   "metadata": {},
   "outputs": [
    {
     "data": {
      "text/plain": [
       "((25000,), (25000,))"
      ]
     },
     "execution_count": 3,
     "metadata": {},
     "output_type": "execute_result"
    }
   ],
   "source": [
    "train_input.shape, test_input.shape"
   ]
  },
  {
   "cell_type": "code",
   "execution_count": 4,
   "metadata": {},
   "outputs": [
    {
     "data": {
      "text/plain": [
       "218"
      ]
     },
     "execution_count": 4,
     "metadata": {},
     "output_type": "execute_result"
    }
   ],
   "source": [
    "len(train_input[0])"
   ]
  },
  {
   "cell_type": "code",
   "execution_count": 5,
   "metadata": {},
   "outputs": [
    {
     "data": {
      "text/plain": [
       "189"
      ]
     },
     "execution_count": 5,
     "metadata": {},
     "output_type": "execute_result"
    }
   ],
   "source": [
    "len(train_input[1])"
   ]
  },
  {
   "cell_type": "code",
   "execution_count": 6,
   "metadata": {},
   "outputs": [
    {
     "data": {
      "text/plain": [
       "[1,\n",
       " 14,\n",
       " 22,\n",
       " 16,\n",
       " 43,\n",
       " 2,\n",
       " 2,\n",
       " 2,\n",
       " 2,\n",
       " 65,\n",
       " 458,\n",
       " 2,\n",
       " 66,\n",
       " 2,\n",
       " 4,\n",
       " 173,\n",
       " 36,\n",
       " 256,\n",
       " 5,\n",
       " 25,\n",
       " 100,\n",
       " 43,\n",
       " 2,\n",
       " 112,\n",
       " 50,\n",
       " 2,\n",
       " 2,\n",
       " 9,\n",
       " 35,\n",
       " 480,\n",
       " 284,\n",
       " 5,\n",
       " 150,\n",
       " 4,\n",
       " 172,\n",
       " 112,\n",
       " 167,\n",
       " 2,\n",
       " 336,\n",
       " 385,\n",
       " 39,\n",
       " 4,\n",
       " 172,\n",
       " 2,\n",
       " 2,\n",
       " 17,\n",
       " 2,\n",
       " 38,\n",
       " 13,\n",
       " 447,\n",
       " 4,\n",
       " 192,\n",
       " 50,\n",
       " 16,\n",
       " 6,\n",
       " 147,\n",
       " 2,\n",
       " 19,\n",
       " 14,\n",
       " 22,\n",
       " 4,\n",
       " 2,\n",
       " 2,\n",
       " 469,\n",
       " 4,\n",
       " 22,\n",
       " 71,\n",
       " 87,\n",
       " 12,\n",
       " 16,\n",
       " 43,\n",
       " 2,\n",
       " 38,\n",
       " 76,\n",
       " 15,\n",
       " 13,\n",
       " 2,\n",
       " 4,\n",
       " 22,\n",
       " 17,\n",
       " 2,\n",
       " 17,\n",
       " 12,\n",
       " 16,\n",
       " 2,\n",
       " 18,\n",
       " 2,\n",
       " 5,\n",
       " 62,\n",
       " 386,\n",
       " 12,\n",
       " 8,\n",
       " 316,\n",
       " 8,\n",
       " 106,\n",
       " 5,\n",
       " 4,\n",
       " 2,\n",
       " 2,\n",
       " 16,\n",
       " 480,\n",
       " 66,\n",
       " 2,\n",
       " 33,\n",
       " 4,\n",
       " 130,\n",
       " 12,\n",
       " 16,\n",
       " 38,\n",
       " 2,\n",
       " 5,\n",
       " 25,\n",
       " 124,\n",
       " 51,\n",
       " 36,\n",
       " 135,\n",
       " 48,\n",
       " 25,\n",
       " 2,\n",
       " 33,\n",
       " 6,\n",
       " 22,\n",
       " 12,\n",
       " 215,\n",
       " 28,\n",
       " 77,\n",
       " 52,\n",
       " 5,\n",
       " 14,\n",
       " 407,\n",
       " 16,\n",
       " 82,\n",
       " 2,\n",
       " 8,\n",
       " 4,\n",
       " 107,\n",
       " 117,\n",
       " 2,\n",
       " 15,\n",
       " 256,\n",
       " 4,\n",
       " 2,\n",
       " 7,\n",
       " 2,\n",
       " 5,\n",
       " 2,\n",
       " 36,\n",
       " 71,\n",
       " 43,\n",
       " 2,\n",
       " 476,\n",
       " 26,\n",
       " 400,\n",
       " 317,\n",
       " 46,\n",
       " 7,\n",
       " 4,\n",
       " 2,\n",
       " 2,\n",
       " 13,\n",
       " 104,\n",
       " 88,\n",
       " 4,\n",
       " 381,\n",
       " 15,\n",
       " 297,\n",
       " 98,\n",
       " 32,\n",
       " 2,\n",
       " 56,\n",
       " 26,\n",
       " 141,\n",
       " 6,\n",
       " 194,\n",
       " 2,\n",
       " 18,\n",
       " 4,\n",
       " 226,\n",
       " 22,\n",
       " 21,\n",
       " 134,\n",
       " 476,\n",
       " 26,\n",
       " 480,\n",
       " 5,\n",
       " 144,\n",
       " 30,\n",
       " 2,\n",
       " 18,\n",
       " 51,\n",
       " 36,\n",
       " 28,\n",
       " 224,\n",
       " 92,\n",
       " 25,\n",
       " 104,\n",
       " 4,\n",
       " 226,\n",
       " 65,\n",
       " 16,\n",
       " 38,\n",
       " 2,\n",
       " 88,\n",
       " 12,\n",
       " 16,\n",
       " 283,\n",
       " 5,\n",
       " 16,\n",
       " 2,\n",
       " 113,\n",
       " 103,\n",
       " 32,\n",
       " 15,\n",
       " 16,\n",
       " 2,\n",
       " 19,\n",
       " 178,\n",
       " 32]"
      ]
     },
     "execution_count": 6,
     "metadata": {},
     "output_type": "execute_result"
    }
   ],
   "source": [
    "train_input[0]"
   ]
  },
  {
   "cell_type": "code",
   "execution_count": 7,
   "metadata": {},
   "outputs": [
    {
     "data": {
      "text/plain": [
       "array([1, 0, 0, 1, 0, 0, 1, 0, 1, 0, 1, 0, 0, 0, 0, 0, 1, 1, 0, 1],\n",
       "      dtype=int64)"
      ]
     },
     "execution_count": 7,
     "metadata": {},
     "output_type": "execute_result"
    }
   ],
   "source": [
    "train_target[:20]"
   ]
  },
  {
   "cell_type": "code",
   "execution_count": 8,
   "metadata": {},
   "outputs": [],
   "source": [
    "train_input, val_input, train_target, val_target = train_test_split(train_input, train_target, test_size=0.2, random_state=42)"
   ]
  },
  {
   "cell_type": "code",
   "execution_count": 9,
   "metadata": {},
   "outputs": [],
   "source": [
    "lengths = np.array([len(x) for x in train_input])"
   ]
  },
  {
   "cell_type": "code",
   "execution_count": 10,
   "metadata": {},
   "outputs": [
    {
     "data": {
      "text/plain": [
       "(239.00925, 178.0)"
      ]
     },
     "execution_count": 10,
     "metadata": {},
     "output_type": "execute_result"
    }
   ],
   "source": [
    "np.mean(lengths), np.median(lengths)"
   ]
  },
  {
   "cell_type": "code",
   "execution_count": 11,
   "metadata": {},
   "outputs": [
    {
     "data": {
      "image/png": "[encoded data removed]",
      "text/plain": [
       "<Figure size 432x288 with 1 Axes>"
      ]
     },
     "metadata": {
      "needs_background": "light"
     },
     "output_type": "display_data"
    }
   ],
   "source": [
    "plt.hist(lengths)\n",
    "plt.xlabel('length')\n",
    "plt.ylabel('frequency')\n",
    "plt.show()"
   ]
  },
  {
   "cell_type": "code",
   "execution_count": 12,
   "metadata": {},
   "outputs": [
    {
     "data": {
      "text/plain": [
       "(20000, 100)"
      ]
     },
     "execution_count": 12,
     "metadata": {},
     "output_type": "execute_result"
    }
   ],
   "source": [
    "train_seq = pad_sequences(train_input, maxlen=100)\n",
    "train_seq.shape"
   ]
  },
  {
   "cell_type": "code",
   "execution_count": 13,
   "metadata": {},
   "outputs": [
    {
     "data": {
      "text/plain": [
       "array([ 10,   4,  20,   9,   2, 364, 352,   5,  45,   6,   2,   2,  33,\n",
       "       269,   8,   2, 142,   2,   5,   2,  17,  73,  17, 204,   5,   2,\n",
       "        19,  55,   2,   2,  92,  66, 104,  14,  20,  93,  76,   2, 151,\n",
       "        33,   4,  58,  12, 188,   2, 151,  12, 215,  69, 224, 142,  73,\n",
       "       237,   6,   2,   7,   2,   2, 188,   2, 103,  14,  31,  10,  10,\n",
       "       451,   7,   2,   5,   2,  80,  91,   2,  30,   2,  34,  14,  20,\n",
       "       151,  50,  26, 131,  49,   2,  84,  46,  50,  37,  80,  79,   6,\n",
       "         2,  46,   7,  14,  20,  10,  10, 470, 158])"
      ]
     },
     "execution_count": 13,
     "metadata": {},
     "output_type": "execute_result"
    }
   ],
   "source": [
    "train_seq[0]"
   ]
  },
  {
   "cell_type": "code",
   "execution_count": 14,
   "metadata": {},
   "outputs": [
    {
     "data": {
      "text/plain": [
       "array([  6,   2,  46,   7,  14,  20,  10,  10, 470, 158])"
      ]
     },
     "execution_count": 14,
     "metadata": {},
     "output_type": "execute_result"
    }
   ],
   "source": [
    "train_seq[0][-10:]"
   ]
  },
  {
   "cell_type": "code",
   "execution_count": 15,
   "metadata": {},
   "outputs": [
    {
     "data": {
      "text/plain": [
       "array([  0,   0,   0,   0,   1,   2, 195,  19,  49,   2,   2, 190,   4,\n",
       "         2, 352,   2, 183,  10,  10,  13,  82,  79,   4,   2,  36,  71,\n",
       "       269,   8,   2,  25,  19,  49,   7,   4,   2,   2,   2,   2,   2,\n",
       "        10,  10,  48,  25,  40,   2,  11,   2,   2,  40,   2,   2,   5,\n",
       "         4,   2,   2,  95,  14, 238,  56, 129,   2,  10,  10,  21,   2,\n",
       "        94, 364, 352,   2,   2,  11, 190,  24, 484,   2,   7,  94, 205,\n",
       "       405,  10,  10,  87,   2,  34,  49,   2,   7,   2,   2,   2,   2,\n",
       "         2, 290,   2,  46,  48,  64,  18,   4,   2])"
      ]
     },
     "execution_count": 15,
     "metadata": {},
     "output_type": "execute_result"
    }
   ],
   "source": [
    "train_seq[5]"
   ]
  },
  {
   "cell_type": "code",
   "execution_count": 16,
   "metadata": {},
   "outputs": [
    {
     "data": {
      "text/plain": [
       "(5000, 100)"
      ]
     },
     "execution_count": 16,
     "metadata": {},
     "output_type": "execute_result"
    }
   ],
   "source": [
    "val_seq = pad_sequences(val_input, maxlen=100)\n",
    "val_seq.shape"
   ]
  },
  {
   "cell_type": "code",
   "execution_count": 17,
   "metadata": {},
   "outputs": [],
   "source": [
    "model = keras.Sequential()\n",
    "model.add(keras.layers.SimpleRNN(8, input_shape=(100, 500)))\n",
    "model.add(keras.layers.Dense(1, activation='sigmoid'))"
   ]
  },
  {
   "cell_type": "code",
   "execution_count": 18,
   "metadata": {},
   "outputs": [],
   "source": [
    "train_oh = keras.utils.to_categorical(train_seq)"
   ]
  },
  {
   "cell_type": "code",
   "execution_count": 19,
   "metadata": {},
   "outputs": [
    {
     "data": {
      "text/plain": [
       "(20000, 100, 500)"
      ]
     },
     "execution_count": 19,
     "metadata": {},
     "output_type": "execute_result"
    }
   ],
   "source": [
    "train_oh.shape"
   ]
  },
  {
   "cell_type": "code",
   "execution_count": 20,
   "metadata": {},
   "outputs": [
    {
     "data": {
      "text/plain": [
       "array([0., 0., 0., 0., 0., 0., 0., 0., 0., 0., 1., 0.], dtype=float32)"
      ]
     },
     "execution_count": 20,
     "metadata": {},
     "output_type": "execute_result"
    }
   ],
   "source": [
    "train_oh[0][0][:12]"
   ]
  },
  {
   "cell_type": "code",
   "execution_count": 21,
   "metadata": {},
   "outputs": [
    {
     "data": {
      "text/plain": [
       "1.0"
      ]
     },
     "execution_count": 21,
     "metadata": {},
     "output_type": "execute_result"
    }
   ],
   "source": [
    "np.sum(train_oh[0][0])"
   ]
  },
  {
   "cell_type": "code",
   "execution_count": 22,
   "metadata": {},
   "outputs": [],
   "source": [
    "val_oh = keras.utils.to_categorical(val_seq)"
   ]
  },
  {
   "cell_type": "code",
   "execution_count": 23,
   "metadata": {},
   "outputs": [
    {
     "name": "stdout",
     "output_type": "stream",
     "text": [
      "Model: \"sequential\"\n",
      "_________________________________________________________________\n",
      "Layer (type)                 Output Shape              Param #   \n",
      "=================================================================\n",
      "simple_rnn (SimpleRNN)       (None, 8)                 4072      \n",
      "_________________________________________________________________\n",
      "dense (Dense)                (None, 1)                 9         \n",
      "=================================================================\n",
      "Total params: 4,081\n",
      "Trainable params: 4,081\n",
      "Non-trainable params: 0\n",
      "_________________________________________________________________\n"
     ]
    }
   ],
   "source": [
    "model.summary()"
   ]
  },
  {
   "cell_type": "code",
   "execution_count": 24,
   "metadata": {},
   "outputs": [
    {
     "name": "stdout",
     "output_type": "stream",
     "text": [
      "Epoch 1/100\n",
      "313/313 [==============================] - 20s 65ms/step - loss: 0.6984 - accuracy: 0.5078 - val_loss: 0.6963 - val_accuracy: 0.5110\n",
      "Epoch 2/100\n",
      "313/313 [==============================] - 20s 65ms/step - loss: 0.6911 - accuracy: 0.5330 - val_loss: 0.6898 - val_accuracy: 0.5280\n",
      "Epoch 3/100\n",
      "313/313 [==============================] - 24s 77ms/step - loss: 0.6735 - accuracy: 0.5824 - val_loss: 0.6560 - val_accuracy: 0.6174\n",
      "Epoch 4/100\n",
      "313/313 [==============================] - 31s 99ms/step - loss: 0.6369 - accuracy: 0.6504 - val_loss: 0.6265 - val_accuracy: 0.6638\n",
      "Epoch 5/100\n",
      "313/313 [==============================] - 28s 90ms/step - loss: 0.6105 - accuracy: 0.6823 - val_loss: 0.6117 - val_accuracy: 0.6684\n",
      "Epoch 6/100\n",
      "313/313 [==============================] - 14s 44ms/step - loss: 0.5884 - accuracy: 0.7053 - val_loss: 0.5891 - val_accuracy: 0.6972\n",
      "Epoch 7/100\n",
      "313/313 [==============================] - 10s 32ms/step - loss: 0.5693 - accuracy: 0.7225 - val_loss: 0.5767 - val_accuracy: 0.7072\n",
      "Epoch 8/100\n",
      "313/313 [==============================] - 10s 31ms/step - loss: 0.5520 - accuracy: 0.7357 - val_loss: 0.5580 - val_accuracy: 0.7220\n",
      "Epoch 9/100\n",
      "313/313 [==============================] - 10s 31ms/step - loss: 0.5379 - accuracy: 0.7455 - val_loss: 0.5454 - val_accuracy: 0.7332\n",
      "Epoch 10/100\n",
      "313/313 [==============================] - 10s 33ms/step - loss: 0.5237 - accuracy: 0.7559 - val_loss: 0.5343 - val_accuracy: 0.7404\n",
      "Epoch 11/100\n",
      "313/313 [==============================] - 12s 38ms/step - loss: 0.5125 - accuracy: 0.7642 - val_loss: 0.5295 - val_accuracy: 0.7410\n",
      "Epoch 12/100\n",
      "313/313 [==============================] - 12s 37ms/step - loss: 0.5027 - accuracy: 0.7699 - val_loss: 0.5164 - val_accuracy: 0.7508\n",
      "Epoch 13/100\n",
      "313/313 [==============================] - 14s 43ms/step - loss: 0.4931 - accuracy: 0.7760 - val_loss: 0.5118 - val_accuracy: 0.7566\n",
      "Epoch 14/100\n",
      "313/313 [==============================] - 22s 69ms/step - loss: 0.4851 - accuracy: 0.7818 - val_loss: 0.5065 - val_accuracy: 0.7590\n",
      "Epoch 15/100\n",
      "313/313 [==============================] - 21s 68ms/step - loss: 0.4783 - accuracy: 0.7861 - val_loss: 0.4968 - val_accuracy: 0.7672\n",
      "Epoch 16/100\n",
      "313/313 [==============================] - 13s 41ms/step - loss: 0.4715 - accuracy: 0.7910 - val_loss: 0.4905 - val_accuracy: 0.7728\n",
      "Epoch 17/100\n",
      "313/313 [==============================] - 11s 35ms/step - loss: 0.4663 - accuracy: 0.7927 - val_loss: 0.4937 - val_accuracy: 0.7678\n",
      "Epoch 18/100\n",
      "313/313 [==============================] - 14s 44ms/step - loss: 0.4609 - accuracy: 0.7969 - val_loss: 0.4822 - val_accuracy: 0.7790\n",
      "Epoch 19/100\n",
      "313/313 [==============================] - 23s 73ms/step - loss: 0.4565 - accuracy: 0.7963 - val_loss: 0.4809 - val_accuracy: 0.7766\n",
      "Epoch 20/100\n",
      "313/313 [==============================] - 28s 88ms/step - loss: 0.4520 - accuracy: 0.8005 - val_loss: 0.4755 - val_accuracy: 0.7814\n",
      "Epoch 21/100\n",
      "313/313 [==============================] - 36s 115ms/step - loss: 0.4477 - accuracy: 0.8037 - val_loss: 0.4788 - val_accuracy: 0.7804\n",
      "Epoch 22/100\n",
      "313/313 [==============================] - 21s 67ms/step - loss: 0.4443 - accuracy: 0.8045 - val_loss: 0.4721 - val_accuracy: 0.7832\n",
      "Epoch 23/100\n",
      "313/313 [==============================] - 12s 38ms/step - loss: 0.4405 - accuracy: 0.8062 - val_loss: 0.4698 - val_accuracy: 0.7830\n",
      "Epoch 24/100\n",
      "313/313 [==============================] - 11s 34ms/step - loss: 0.4378 - accuracy: 0.8080 - val_loss: 0.4702 - val_accuracy: 0.7828\n",
      "Epoch 25/100\n",
      "313/313 [==============================] - 10s 33ms/step - loss: 0.4343 - accuracy: 0.8105 - val_loss: 0.4707 - val_accuracy: 0.7848\n",
      "Epoch 26/100\n",
      "313/313 [==============================] - 11s 36ms/step - loss: 0.4314 - accuracy: 0.8117 - val_loss: 0.4664 - val_accuracy: 0.7846\n",
      "Epoch 27/100\n",
      "313/313 [==============================] - 11s 35ms/step - loss: 0.4297 - accuracy: 0.8117 - val_loss: 0.4662 - val_accuracy: 0.7840\n",
      "Epoch 28/100\n",
      "313/313 [==============================] - 12s 37ms/step - loss: 0.4276 - accuracy: 0.8115 - val_loss: 0.4649 - val_accuracy: 0.7854\n",
      "Epoch 29/100\n",
      "313/313 [==============================] - 14s 45ms/step - loss: 0.4256 - accuracy: 0.8143 - val_loss: 0.4660 - val_accuracy: 0.7864\n",
      "Epoch 30/100\n",
      "313/313 [==============================] - 22s 69ms/step - loss: 0.4232 - accuracy: 0.8164 - val_loss: 0.4628 - val_accuracy: 0.7872\n",
      "Epoch 31/100\n",
      "313/313 [==============================] - 21s 67ms/step - loss: 0.4217 - accuracy: 0.8161 - val_loss: 0.4608 - val_accuracy: 0.7908\n",
      "Epoch 32/100\n",
      "313/313 [==============================] - 12s 38ms/step - loss: 0.4202 - accuracy: 0.8160 - val_loss: 0.4593 - val_accuracy: 0.7908\n",
      "Epoch 33/100\n",
      "313/313 [==============================] - 10s 33ms/step - loss: 0.4183 - accuracy: 0.8169 - val_loss: 0.4598 - val_accuracy: 0.7870\n",
      "Epoch 34/100\n",
      "313/313 [==============================] - 10s 31ms/step - loss: 0.4164 - accuracy: 0.8176 - val_loss: 0.4607 - val_accuracy: 0.7910\n",
      "Epoch 35/100\n",
      "313/313 [==============================] - 10s 33ms/step - loss: 0.4157 - accuracy: 0.8189 - val_loss: 0.4575 - val_accuracy: 0.7920\n",
      "Epoch 36/100\n",
      "313/313 [==============================] - 11s 34ms/step - loss: 0.4139 - accuracy: 0.8198 - val_loss: 0.4581 - val_accuracy: 0.7902\n",
      "Epoch 37/100\n",
      "313/313 [==============================] - 11s 36ms/step - loss: 0.4128 - accuracy: 0.8209 - val_loss: 0.4573 - val_accuracy: 0.7930\n",
      "Epoch 38/100\n",
      "313/313 [==============================] - 13s 40ms/step - loss: 0.4113 - accuracy: 0.8203 - val_loss: 0.4568 - val_accuracy: 0.7922\n",
      "Epoch 39/100\n",
      "313/313 [==============================] - 15s 48ms/step - loss: 0.4100 - accuracy: 0.8214 - val_loss: 0.4557 - val_accuracy: 0.7890\n",
      "Epoch 40/100\n",
      "313/313 [==============================] - 25s 79ms/step - loss: 0.4096 - accuracy: 0.8206 - val_loss: 0.4554 - val_accuracy: 0.7936\n",
      "Epoch 41/100\n",
      "313/313 [==============================] - 14s 45ms/step - loss: 0.4080 - accuracy: 0.8225 - val_loss: 0.4599 - val_accuracy: 0.7914\n",
      "Epoch 42/100\n",
      "313/313 [==============================] - 11s 35ms/step - loss: 0.4066 - accuracy: 0.8220 - val_loss: 0.4591 - val_accuracy: 0.7916\n",
      "Epoch 43/100\n",
      "313/313 [==============================] - 10s 32ms/step - loss: 0.4055 - accuracy: 0.8219 - val_loss: 0.4554 - val_accuracy: 0.7930\n",
      "Epoch 44/100\n",
      "313/313 [==============================] - 10s 31ms/step - loss: 0.4045 - accuracy: 0.8247 - val_loss: 0.4546 - val_accuracy: 0.7940\n",
      "Epoch 45/100\n",
      "313/313 [==============================] - 12s 37ms/step - loss: 0.4030 - accuracy: 0.8245 - val_loss: 0.4555 - val_accuracy: 0.7920\n",
      "Epoch 46/100\n",
      "313/313 [==============================] - 13s 40ms/step - loss: 0.4020 - accuracy: 0.8257 - val_loss: 0.4594 - val_accuracy: 0.7878\n",
      "Epoch 47/100\n",
      "313/313 [==============================] - 12s 37ms/step - loss: 0.4007 - accuracy: 0.8251 - val_loss: 0.4570 - val_accuracy: 0.7880\n"
     ]
    }
   ],
   "source": [
    "rmsprop = keras.optimizers.RMSprop(learning_rate=1e-4)\n",
    "model.compile(optimizer=rmsprop, loss='binary_crossentropy', metrics='accuracy')\n",
    "checkpoint_cb = keras.callbacks.ModelCheckpoint('best-simplernn-model.h5', save_best_only=True)\n",
    "early_stopping_cb = keras.callbacks.EarlyStopping(patience=3, restore_best_weights=True)\n",
    "history = model.fit(train_oh, train_target, epochs=100, batch_size=64, validation_data=(val_oh, val_target), callbacks=[checkpoint_cb, early_stopping_cb])"
   ]
  },
  {
   "cell_type": "code",
   "execution_count": 25,
   "metadata": {},
   "outputs": [
    {
     "data": {
      "image/png": "[encoded data removed]",
      "text/plain": [
       "<Figure size 432x288 with 1 Axes>"
      ]
     },
     "metadata": {
      "needs_background": "light"
     },
     "output_type": "display_data"
    }
   ],
   "source": [
    "plt.plot(history.history['loss'])\n",
    "plt.plot(history.history['val_loss'])\n",
    "plt.xlabel('epoch')\n",
    "plt.ylabel('loss')\n",
    "plt.legend(['train', 'val'])\n",
    "plt.show()"
   ]
  },
  {
   "cell_type": "code",
   "execution_count": 26,
   "metadata": {},
   "outputs": [
    {
     "data": {
      "text/plain": [
       "(8000000, 4000000000)"
      ]
     },
     "execution_count": 26,
     "metadata": {},
     "output_type": "execute_result"
    }
   ],
   "source": [
    "train_seq.nbytes, train_oh.nbytes"
   ]
  },
  {
   "cell_type": "code",
   "execution_count": 27,
   "metadata": {},
   "outputs": [],
   "source": [
    "model2 = keras.Sequential()\n",
    "model2.add(keras.layers.Embedding(500, 16, input_length=100))\n",
    "model2.add(keras.layers.SimpleRNN(8))\n",
    "model2.add(keras.layers.Dense(1, activation='sigmoid'))"
   ]
  },
  {
   "cell_type": "code",
   "execution_count": 28,
   "metadata": {},
   "outputs": [
    {
     "name": "stdout",
     "output_type": "stream",
     "text": [
      "Model: \"sequential_1\"\n",
      "_________________________________________________________________\n",
      "Layer (type)                 Output Shape              Param #   \n",
      "=================================================================\n",
      "embedding (Embedding)        (None, 100, 16)           8000      \n",
      "_________________________________________________________________\n",
      "simple_rnn_1 (SimpleRNN)     (None, 8)                 200       \n",
      "_________________________________________________________________\n",
      "dense_1 (Dense)              (None, 1)                 9         \n",
      "=================================================================\n",
      "Total params: 8,209\n",
      "Trainable params: 8,209\n",
      "Non-trainable params: 0\n",
      "_________________________________________________________________\n"
     ]
    }
   ],
   "source": [
    "model2.summary()"
   ]
  },
  {
   "cell_type": "code",
   "execution_count": 29,
   "metadata": {},
   "outputs": [
    {
     "name": "stdout",
     "output_type": "stream",
     "text": [
      "Epoch 1/100\n",
      "313/313 [==============================] - 8s 25ms/step - loss: 0.6945 - accuracy: 0.5038 - val_loss: 0.6931 - val_accuracy: 0.5078\n",
      "Epoch 2/100\n",
      "313/313 [==============================] - 7s 24ms/step - loss: 0.6907 - accuracy: 0.5278 - val_loss: 0.6914 - val_accuracy: 0.5258\n",
      "Epoch 3/100\n",
      "313/313 [==============================] - 10s 32ms/step - loss: 0.6873 - accuracy: 0.5502 - val_loss: 0.6895 - val_accuracy: 0.5340\n",
      "Epoch 4/100\n",
      "313/313 [==============================] - 20s 65ms/step - loss: 0.6835 - accuracy: 0.5706 - val_loss: 0.6876 - val_accuracy: 0.5430\n",
      "Epoch 5/100\n",
      "313/313 [==============================] - 11s 34ms/step - loss: 0.6794 - accuracy: 0.5809 - val_loss: 0.6856 - val_accuracy: 0.5468\n",
      "Epoch 6/100\n",
      "313/313 [==============================] - 9s 27ms/step - loss: 0.6749 - accuracy: 0.5888 - val_loss: 0.6837 - val_accuracy: 0.5550\n",
      "Epoch 7/100\n",
      "313/313 [==============================] - 6s 19ms/step - loss: 0.6701 - accuracy: 0.5986 - val_loss: 0.6818 - val_accuracy: 0.5590\n",
      "Epoch 8/100\n",
      "313/313 [==============================] - 6s 18ms/step - loss: 0.6651 - accuracy: 0.6058 - val_loss: 0.6800 - val_accuracy: 0.5606\n",
      "Epoch 9/100\n",
      "313/313 [==============================] - 6s 19ms/step - loss: 0.6600 - accuracy: 0.6135 - val_loss: 0.6782 - val_accuracy: 0.5634\n",
      "Epoch 10/100\n",
      "313/313 [==============================] - 5s 17ms/step - loss: 0.6549 - accuracy: 0.6217 - val_loss: 0.6764 - val_accuracy: 0.5718\n",
      "Epoch 11/100\n",
      "313/313 [==============================] - 5s 18ms/step - loss: 0.6497 - accuracy: 0.6293 - val_loss: 0.6750 - val_accuracy: 0.5690\n",
      "Epoch 12/100\n",
      "313/313 [==============================] - 6s 20ms/step - loss: 0.6447 - accuracy: 0.6349 - val_loss: 0.6734 - val_accuracy: 0.5766\n",
      "Epoch 13/100\n",
      "313/313 [==============================] - 6s 19ms/step - loss: 0.6398 - accuracy: 0.6419 - val_loss: 0.6725 - val_accuracy: 0.5744\n",
      "Epoch 14/100\n",
      "313/313 [==============================] - 7s 22ms/step - loss: 0.6349 - accuracy: 0.6474 - val_loss: 0.6709 - val_accuracy: 0.5788\n",
      "Epoch 15/100\n",
      "313/313 [==============================] - 7s 21ms/step - loss: 0.6302 - accuracy: 0.6528 - val_loss: 0.6700 - val_accuracy: 0.5808\n",
      "Epoch 16/100\n",
      "313/313 [==============================] - 7s 22ms/step - loss: 0.6255 - accuracy: 0.6564 - val_loss: 0.6695 - val_accuracy: 0.5798\n",
      "Epoch 17/100\n",
      "313/313 [==============================] - 7s 23ms/step - loss: 0.6210 - accuracy: 0.6604 - val_loss: 0.6686 - val_accuracy: 0.5826\n",
      "Epoch 18/100\n",
      "313/313 [==============================] - 9s 29ms/step - loss: 0.6169 - accuracy: 0.6640 - val_loss: 0.6680 - val_accuracy: 0.5808\n",
      "Epoch 19/100\n",
      "313/313 [==============================] - 9s 29ms/step - loss: 0.6127 - accuracy: 0.6709 - val_loss: 0.6675 - val_accuracy: 0.5876\n",
      "Epoch 20/100\n",
      "313/313 [==============================] - 12s 38ms/step - loss: 0.6088 - accuracy: 0.6711 - val_loss: 0.6666 - val_accuracy: 0.5880\n",
      "Epoch 21/100\n",
      "313/313 [==============================] - 15s 49ms/step - loss: 0.6050 - accuracy: 0.6761 - val_loss: 0.6658 - val_accuracy: 0.5916\n",
      "Epoch 22/100\n",
      "313/313 [==============================] - 9s 30ms/step - loss: 0.6012 - accuracy: 0.6801 - val_loss: 0.6659 - val_accuracy: 0.5916\n",
      "Epoch 23/100\n",
      "313/313 [==============================] - 7s 24ms/step - loss: 0.5975 - accuracy: 0.6826 - val_loss: 0.6655 - val_accuracy: 0.5956\n",
      "Epoch 24/100\n",
      "313/313 [==============================] - 7s 21ms/step - loss: 0.5940 - accuracy: 0.6858 - val_loss: 0.6643 - val_accuracy: 0.5998\n",
      "Epoch 25/100\n",
      "313/313 [==============================] - 6s 19ms/step - loss: 0.5906 - accuracy: 0.6897 - val_loss: 0.6644 - val_accuracy: 0.6006\n",
      "Epoch 26/100\n",
      "313/313 [==============================] - 6s 18ms/step - loss: 0.5870 - accuracy: 0.6924 - val_loss: 0.6651 - val_accuracy: 0.6006\n",
      "Epoch 27/100\n",
      "313/313 [==============================] - 6s 19ms/step - loss: 0.5838 - accuracy: 0.6947 - val_loss: 0.6654 - val_accuracy: 0.6032\n"
     ]
    }
   ],
   "source": [
    "rmsprop = keras.optimizers.RMSprop(learning_rate=1e-4)\n",
    "model2.compile(optimizer=rmsprop, loss='binary_crossentropy', metrics='accuracy')\n",
    "checkpoint_cb = keras.callbacks.ModelCheckpoint('best-embedding-model.h5', save_best_only=True)\n",
    "early_stopping_cb = keras.callbacks.EarlyStopping(patience=3, restore_best_weights=True)\n",
    "history = model2.fit(train_seq, train_target, epochs=100, batch_size=64, validation_data=(val_seq, val_target), callbacks=[checkpoint_cb, early_stopping_cb])"
   ]
  },
  {
   "cell_type": "code",
   "execution_count": 30,
   "metadata": {},
   "outputs": [
    {
     "data": {
      "image/png": "[encoded data removed]",
      "text/plain": [
       "<Figure size 432x288 with 1 Axes>"
      ]
     },
     "metadata": {
      "needs_background": "light"
     },
     "output_type": "display_data"
    }
   ],
   "source": [
    "plt.plot(history.history['loss'])\n",
    "plt.plot(history.history['val_loss'])\n",
    "plt.xlabel('epoch')\n",
    "plt.ylabel('loss')\n",
    "plt.legend(['train', 'val'])\n",
    "plt.show()"
   ]
  }
 ],
 "metadata": {
  "interpreter": {
   "hash": "6d46af94c2bbce495f1e668725902fa517c90b1782bcfe2fce0dd9868df553d3"
  },
  "kernelspec": {
   "display_name": "Python 3.8.8 64-bit ('base': conda)",
   "language": "python",
   "name": "python3"
  },
  "language_info": {
   "codemirror_mode": {
    "name": "ipython",
    "version": 3
   },
   "file_extension": ".py",
   "mimetype": "text/x-python",
   "name": "python",
   "nbconvert_exporter": "python",
   "pygments_lexer": "ipython3",
   "version": "3.8.8"
  },
  "orig_nbformat": 4
 },
 "nbformat": 4,
 "nbformat_minor": 2
}
